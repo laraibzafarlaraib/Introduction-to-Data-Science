{
 "cells": [
  {
   "cell_type": "markdown",
   "id": "b0cf17d5",
   "metadata": {},
   "source": [
    "---   \n",
    " <img align=\"left\" width=\"75\" height=\"75\"  src=\"../../University_of_the_Punjab_logo.png\"> \n",
    "\n",
    "<h1 align=\"center\">Department of Data Science</h1>\n",
    "<h1 align=\"center\">Data Science Journey from Beginners to Expert</h1>\n",
    "\n",
    "---\n",
    "<h3><div align=\"right\">Instructor: Engr. Muhammad Nadeem Majeed, Ph.D.</div></h3>    "
   ]
  },
  {
   "cell_type": "markdown",
   "id": "351c3150",
   "metadata": {},
   "source": [
    "<h1 align=\"center\">Python Strings</h1>"
   ]
  },
  {
   "cell_type": "markdown",
   "id": "f258f97c",
   "metadata": {},
   "source": [
    "## _Python-Strings.ipynb_\n",
    "#### [Learn more about Python Strings](https://docs.python.org/3/library/stdtypes.html#text-sequence-type-str)"
   ]
  },
  {
   "cell_type": "markdown",
   "id": "0a41a8be",
   "metadata": {},
   "source": [
    "<img align=\"right\" width=\"400\" height=\"800\"  src=\"images/datatypes1.png\" > \n",
    "\n",
    "## Learning agenda of this notebook\n",
    "A String is an object type in Python, that is used to record textual information. String data type is actually a sub-type of a broader classification of object type called sequence. A sequence is an object that contains components placed one after the other, where each object is given a numeric index, which identifies that component and its position within the whole sequence. As Python is a zero indexed based language, the first object of any sequence is always indexed zero. A string is defined using opening and closing delimiters. These delimiters are single or double quotes\n",
    "\n",
    "\n",
    "\n",
    "1. Defining strings in Python\n",
    "2. Accessing characters of a string in Python\n",
    "3. Strings are immutable\n",
    "4. Slicing strings\n",
    "5. String concatenation\n",
    "6. Creating large strings\n",
    "\n",
    "7. String Methods: `lower()`, `upper()`, `strip()`, `startswith()`, `split()`, `join()`, `find()`, `replace()`, `format()`\n",
    "8. String Membership test"
   ]
  },
  {
   "cell_type": "markdown",
   "id": "9f811f89",
   "metadata": {},
   "source": [
    "## 1. Defining Strings in Python\n",
    "- A string is a collection of character(s) closed within single or double quotation marks. (There is no `char` data type in Python as in C/C++)\n",
    "- A string can also contain a single character or be entirely empty.\n",
    "- To make a single quote part of a string, define the string using double quotes and vice versa. You can also make use of escape sequence"
   ]
  },
  {
   "cell_type": "code",
   "execution_count": 28,
   "id": "e360d31b",
   "metadata": {},
   "outputs": [
    {
     "name": "stdout",
     "output_type": "stream",
     "text": [
      "Hello\n",
      "World\n",
      "\n",
      "A\n"
     ]
    }
   ],
   "source": [
    "string1 = 'Hello'\n",
    "print(string1)\n",
    "\n",
    "string2 = \"World\"\n",
    "print(string2)\n",
    "\n",
    "string3 = \"\"\n",
    "print(string3)\n",
    "\n",
    "string4 = \"A\"\n",
    "print(string4)"
   ]
  },
  {
   "cell_type": "code",
   "execution_count": 31,
   "id": "30ceb2f2",
   "metadata": {},
   "outputs": [
    {
     "name": "stdout",
     "output_type": "stream",
     "text": [
      "Hello, This is\n",
      "            multi-line string\n",
      "Hello, This is\n",
      "            multi-line string\n"
     ]
    }
   ],
   "source": [
    "# triple quotes string can extend multiple lines\n",
    "\n",
    "string5 = \"\"\"Hello, This is\n",
    "            multi-line string\"\"\"\n",
    "print(string5)\n",
    "\n",
    "string5 = '''Hello, This is\n",
    "            multi-line string'''\n",
    "print(string5)"
   ]
  },
  {
   "cell_type": "code",
   "execution_count": null,
   "id": "2539e811",
   "metadata": {},
   "outputs": [],
   "source": [
    "# Be careful with quotes!\n",
    "'I'm using single quotes, but will create an error'"
   ]
  },
  {
   "cell_type": "markdown",
   "id": "eb95d10e",
   "metadata": {},
   "source": [
    "The reason for the error above is because the single quote in I'm stopped the string. You can use combinations of double and single quotes to get the complete statement."
   ]
  },
  {
   "cell_type": "code",
   "execution_count": null,
   "id": "6f79c557",
   "metadata": {},
   "outputs": [],
   "source": [
    "\"Now I'm ready to use the single quotes inside a string!\""
   ]
  },
  {
   "cell_type": "markdown",
   "id": "3a978533",
   "metadata": {},
   "source": [
    "Escape characters. If there is some where situation where you need a bunch of quotes, you can use escape character \\' \\'.\n",
    "Just make sure you close the end of the string without the escape character ."
   ]
  },
  {
   "cell_type": "code",
   "execution_count": null,
   "id": "c559d6e2",
   "metadata": {},
   "outputs": [],
   "source": [
    "'Now I\\'m ready to use the single quotes inside a string!'"
   ]
  },
  {
   "cell_type": "markdown",
   "id": "d3e111e1",
   "metadata": {},
   "source": [
    "## 2. Accessing Characters of a String in Python\n",
    "- Since string is of type sequence, and any component within a sequence can be accessed by entrying an index within square brackets. So naturally this work for strings as well\n",
    "- Similarly, if we want to find out the index of a specific item/character, we can use the `str.index()` method"
   ]
  },
  {
   "cell_type": "code",
   "execution_count": 32,
   "id": "b99f10c5",
   "metadata": {},
   "outputs": [
    {
     "name": "stdout",
     "output_type": "stream",
     "text": [
      "str =  Python Programming is fun\n",
      "str[0] =  P\n",
      "str[-1] =  n\n",
      "str[-2] =  u\n"
     ]
    }
   ],
   "source": [
    "str = 'Python Programming is fun'\n",
    "print('str = ', str)\n",
    "\n",
    "#access first index\n",
    "print('str[0] = ', str[0])\n",
    "\n",
    "# Negative indices start from the opposite end of the string. Hence, -1 index corresponds to the last character\n",
    "print('str[-1] = ', str[-1])\n",
    "\n",
    "#access second last index\n",
    "print('str[-2] = ', str[-2])\n",
    "\n",
    "#print(str[17])     #access an index out of the range, will get error\n",
    "\n",
    "#print(str[1.5])    #use numbers other than an integer as index will flag an error"
   ]
  },
  {
   "cell_type": "code",
   "execution_count": 33,
   "id": "30a13986",
   "metadata": {},
   "outputs": [
    {
     "data": {
      "text/plain": [
       "2"
      ]
     },
     "execution_count": 33,
     "metadata": {},
     "output_type": "execute_result"
    }
   ],
   "source": [
    "# To find out the index of a specific character\n",
    "str = \"Python Programming is fun\"\n",
    "str.index('th')"
   ]
  },
  {
   "cell_type": "code",
   "execution_count": 35,
   "id": "6d910aec",
   "metadata": {},
   "outputs": [
    {
     "name": "stdout",
     "output_type": "stream",
     "text": [
      "['__abs__', '__add__', '__bool__', '__ceil__', '__class__', '__delattr__', '__dir__', '__divmod__', '__doc__', '__eq__', '__float__', '__floor__', '__floordiv__', '__format__', '__ge__', '__getattribute__', '__getformat__', '__getnewargs__', '__getstate__', '__gt__', '__hash__', '__init__', '__init_subclass__', '__int__', '__le__', '__lt__', '__mod__', '__mul__', '__ne__', '__neg__', '__new__', '__pos__', '__pow__', '__radd__', '__rdivmod__', '__reduce__', '__reduce_ex__', '__repr__', '__rfloordiv__', '__rmod__', '__rmul__', '__round__', '__rpow__', '__rsub__', '__rtruediv__', '__setattr__', '__sizeof__', '__str__', '__sub__', '__subclasshook__', '__truediv__', '__trunc__', 'as_integer_ratio', 'conjugate', 'fromhex', 'hex', 'imag', 'is_integer', 'real']\n"
     ]
    }
   ],
   "source": [
    "print(dir(float))"
   ]
  },
  {
   "cell_type": "markdown",
   "id": "5cbf1435",
   "metadata": {},
   "source": [
    "## 3. Strings are Immutable"
   ]
  },
  {
   "cell_type": "code",
   "execution_count": 1,
   "id": "327aea83",
   "metadata": {},
   "outputs": [
    {
     "name": "stdout",
     "output_type": "stream",
     "text": [
      "Help on class str in module builtins:\n",
      "\n",
      "class str(object)\n",
      " |  str(object='') -> str\n",
      " |  str(bytes_or_buffer[, encoding[, errors]]) -> str\n",
      " |\n",
      " |  Create a new string object from the given object. If encoding or\n",
      " |  errors is specified, then the object must expose a data buffer\n",
      " |  that will be decoded using the given encoding and error handler.\n",
      " |  Otherwise, returns the result of object.__str__() (if defined)\n",
      " |  or repr(object).\n",
      " |  encoding defaults to sys.getdefaultencoding().\n",
      " |  errors defaults to 'strict'.\n",
      " |\n",
      " |  Methods defined here:\n",
      " |\n",
      " |  __add__(self, value, /)\n",
      " |      Return self+value.\n",
      " |\n",
      " |  __contains__(self, key, /)\n",
      " |      Return bool(key in self).\n",
      " |\n",
      " |  __eq__(self, value, /)\n",
      " |      Return self==value.\n",
      " |\n",
      " |  __format__(self, format_spec, /)\n",
      " |      Return a formatted version of the string as described by format_spec.\n",
      " |\n",
      " |  __ge__(self, value, /)\n",
      " |      Return self>=value.\n",
      " |\n",
      " |  __getattribute__(self, name, /)\n",
      " |      Return getattr(self, name).\n",
      " |\n",
      " |  __getitem__(self, key, /)\n",
      " |      Return self[key].\n",
      " |\n",
      " |  __getnewargs__(...)\n",
      " |\n",
      " |  __gt__(self, value, /)\n",
      " |      Return self>value.\n",
      " |\n",
      " |  __hash__(self, /)\n",
      " |      Return hash(self).\n",
      " |\n",
      " |  __iter__(self, /)\n",
      " |      Implement iter(self).\n",
      " |\n",
      " |  __le__(self, value, /)\n",
      " |      Return self<=value.\n",
      " |\n",
      " |  __len__(self, /)\n",
      " |      Return len(self).\n",
      " |\n",
      " |  __lt__(self, value, /)\n",
      " |      Return self<value.\n",
      " |\n",
      " |  __mod__(self, value, /)\n",
      " |      Return self%value.\n",
      " |\n",
      " |  __mul__(self, value, /)\n",
      " |      Return self*value.\n",
      " |\n",
      " |  __ne__(self, value, /)\n",
      " |      Return self!=value.\n",
      " |\n",
      " |  __repr__(self, /)\n",
      " |      Return repr(self).\n",
      " |\n",
      " |  __rmod__(self, value, /)\n",
      " |      Return value%self.\n",
      " |\n",
      " |  __rmul__(self, value, /)\n",
      " |      Return value*self.\n",
      " |\n",
      " |  __sizeof__(self, /)\n",
      " |      Return the size of the string in memory, in bytes.\n",
      " |\n",
      " |  __str__(self, /)\n",
      " |      Return str(self).\n",
      " |\n",
      " |  capitalize(self, /)\n",
      " |      Return a capitalized version of the string.\n",
      " |\n",
      " |      More specifically, make the first character have upper case and the rest lower\n",
      " |      case.\n",
      " |\n",
      " |  casefold(self, /)\n",
      " |      Return a version of the string suitable for caseless comparisons.\n",
      " |\n",
      " |  center(self, width, fillchar=' ', /)\n",
      " |      Return a centered string of length width.\n",
      " |\n",
      " |      Padding is done using the specified fill character (default is a space).\n",
      " |\n",
      " |  count(...)\n",
      " |      S.count(sub[, start[, end]]) -> int\n",
      " |\n",
      " |      Return the number of non-overlapping occurrences of substring sub in\n",
      " |      string S[start:end].  Optional arguments start and end are\n",
      " |      interpreted as in slice notation.\n",
      " |\n",
      " |  encode(self, /, encoding='utf-8', errors='strict')\n",
      " |      Encode the string using the codec registered for encoding.\n",
      " |\n",
      " |      encoding\n",
      " |        The encoding in which to encode the string.\n",
      " |      errors\n",
      " |        The error handling scheme to use for encoding errors.\n",
      " |        The default is 'strict' meaning that encoding errors raise a\n",
      " |        UnicodeEncodeError.  Other possible values are 'ignore', 'replace' and\n",
      " |        'xmlcharrefreplace' as well as any other name registered with\n",
      " |        codecs.register_error that can handle UnicodeEncodeErrors.\n",
      " |\n",
      " |  endswith(...)\n",
      " |      S.endswith(suffix[, start[, end]]) -> bool\n",
      " |\n",
      " |      Return True if S ends with the specified suffix, False otherwise.\n",
      " |      With optional start, test S beginning at that position.\n",
      " |      With optional end, stop comparing S at that position.\n",
      " |      suffix can also be a tuple of strings to try.\n",
      " |\n",
      " |  expandtabs(self, /, tabsize=8)\n",
      " |      Return a copy where all tab characters are expanded using spaces.\n",
      " |\n",
      " |      If tabsize is not given, a tab size of 8 characters is assumed.\n",
      " |\n",
      " |  find(...)\n",
      " |      S.find(sub[, start[, end]]) -> int\n",
      " |\n",
      " |      Return the lowest index in S where substring sub is found,\n",
      " |      such that sub is contained within S[start:end].  Optional\n",
      " |      arguments start and end are interpreted as in slice notation.\n",
      " |\n",
      " |      Return -1 on failure.\n",
      " |\n",
      " |  format(...)\n",
      " |      S.format(*args, **kwargs) -> str\n",
      " |\n",
      " |      Return a formatted version of S, using substitutions from args and kwargs.\n",
      " |      The substitutions are identified by braces ('{' and '}').\n",
      " |\n",
      " |  format_map(...)\n",
      " |      S.format_map(mapping) -> str\n",
      " |\n",
      " |      Return a formatted version of S, using substitutions from mapping.\n",
      " |      The substitutions are identified by braces ('{' and '}').\n",
      " |\n",
      " |  index(...)\n",
      " |      S.index(sub[, start[, end]]) -> int\n",
      " |\n",
      " |      Return the lowest index in S where substring sub is found,\n",
      " |      such that sub is contained within S[start:end].  Optional\n",
      " |      arguments start and end are interpreted as in slice notation.\n",
      " |\n",
      " |      Raises ValueError when the substring is not found.\n",
      " |\n",
      " |  isalnum(self, /)\n",
      " |      Return True if the string is an alpha-numeric string, False otherwise.\n",
      " |\n",
      " |      A string is alpha-numeric if all characters in the string are alpha-numeric and\n",
      " |      there is at least one character in the string.\n",
      " |\n",
      " |  isalpha(self, /)\n",
      " |      Return True if the string is an alphabetic string, False otherwise.\n",
      " |\n",
      " |      A string is alphabetic if all characters in the string are alphabetic and there\n",
      " |      is at least one character in the string.\n",
      " |\n",
      " |  isascii(self, /)\n",
      " |      Return True if all characters in the string are ASCII, False otherwise.\n",
      " |\n",
      " |      ASCII characters have code points in the range U+0000-U+007F.\n",
      " |      Empty string is ASCII too.\n",
      " |\n",
      " |  isdecimal(self, /)\n",
      " |      Return True if the string is a decimal string, False otherwise.\n",
      " |\n",
      " |      A string is a decimal string if all characters in the string are decimal and\n",
      " |      there is at least one character in the string.\n",
      " |\n",
      " |  isdigit(self, /)\n",
      " |      Return True if the string is a digit string, False otherwise.\n",
      " |\n",
      " |      A string is a digit string if all characters in the string are digits and there\n",
      " |      is at least one character in the string.\n",
      " |\n",
      " |  isidentifier(self, /)\n",
      " |      Return True if the string is a valid Python identifier, False otherwise.\n",
      " |\n",
      " |      Call keyword.iskeyword(s) to test whether string s is a reserved identifier,\n",
      " |      such as \"def\" or \"class\".\n",
      " |\n",
      " |  islower(self, /)\n",
      " |      Return True if the string is a lowercase string, False otherwise.\n",
      " |\n",
      " |      A string is lowercase if all cased characters in the string are lowercase and\n",
      " |      there is at least one cased character in the string.\n",
      " |\n",
      " |  isnumeric(self, /)\n",
      " |      Return True if the string is a numeric string, False otherwise.\n",
      " |\n",
      " |      A string is numeric if all characters in the string are numeric and there is at\n",
      " |      least one character in the string.\n",
      " |\n",
      " |  isprintable(self, /)\n",
      " |      Return True if the string is printable, False otherwise.\n",
      " |\n",
      " |      A string is printable if all of its characters are considered printable in\n",
      " |      repr() or if it is empty.\n",
      " |\n",
      " |  isspace(self, /)\n",
      " |      Return True if the string is a whitespace string, False otherwise.\n",
      " |\n",
      " |      A string is whitespace if all characters in the string are whitespace and there\n",
      " |      is at least one character in the string.\n",
      " |\n",
      " |  istitle(self, /)\n",
      " |      Return True if the string is a title-cased string, False otherwise.\n",
      " |\n",
      " |      In a title-cased string, upper- and title-case characters may only\n",
      " |      follow uncased characters and lowercase characters only cased ones.\n",
      " |\n",
      " |  isupper(self, /)\n",
      " |      Return True if the string is an uppercase string, False otherwise.\n",
      " |\n",
      " |      A string is uppercase if all cased characters in the string are uppercase and\n",
      " |      there is at least one cased character in the string.\n",
      " |\n",
      " |  join(self, iterable, /)\n",
      " |      Concatenate any number of strings.\n",
      " |\n",
      " |      The string whose method is called is inserted in between each given string.\n",
      " |      The result is returned as a new string.\n",
      " |\n",
      " |      Example: '.'.join(['ab', 'pq', 'rs']) -> 'ab.pq.rs'\n",
      " |\n",
      " |  ljust(self, width, fillchar=' ', /)\n",
      " |      Return a left-justified string of length width.\n",
      " |\n",
      " |      Padding is done using the specified fill character (default is a space).\n",
      " |\n",
      " |  lower(self, /)\n",
      " |      Return a copy of the string converted to lowercase.\n",
      " |\n",
      " |  lstrip(self, chars=None, /)\n",
      " |      Return a copy of the string with leading whitespace removed.\n",
      " |\n",
      " |      If chars is given and not None, remove characters in chars instead.\n",
      " |\n",
      " |  partition(self, sep, /)\n",
      " |      Partition the string into three parts using the given separator.\n",
      " |\n",
      " |      This will search for the separator in the string.  If the separator is found,\n",
      " |      returns a 3-tuple containing the part before the separator, the separator\n",
      " |      itself, and the part after it.\n",
      " |\n",
      " |      If the separator is not found, returns a 3-tuple containing the original string\n",
      " |      and two empty strings.\n",
      " |\n",
      " |  removeprefix(self, prefix, /)\n",
      " |      Return a str with the given prefix string removed if present.\n",
      " |\n",
      " |      If the string starts with the prefix string, return string[len(prefix):].\n",
      " |      Otherwise, return a copy of the original string.\n",
      " |\n",
      " |  removesuffix(self, suffix, /)\n",
      " |      Return a str with the given suffix string removed if present.\n",
      " |\n",
      " |      If the string ends with the suffix string and that suffix is not empty,\n",
      " |      return string[:-len(suffix)]. Otherwise, return a copy of the original\n",
      " |      string.\n",
      " |\n",
      " |  replace(self, old, new, count=-1, /)\n",
      " |      Return a copy with all occurrences of substring old replaced by new.\n",
      " |\n",
      " |        count\n",
      " |          Maximum number of occurrences to replace.\n",
      " |          -1 (the default value) means replace all occurrences.\n",
      " |\n",
      " |      If the optional argument count is given, only the first count occurrences are\n",
      " |      replaced.\n",
      " |\n",
      " |  rfind(...)\n",
      " |      S.rfind(sub[, start[, end]]) -> int\n",
      " |\n",
      " |      Return the highest index in S where substring sub is found,\n",
      " |      such that sub is contained within S[start:end].  Optional\n",
      " |      arguments start and end are interpreted as in slice notation.\n",
      " |\n",
      " |      Return -1 on failure.\n",
      " |\n",
      " |  rindex(...)\n",
      " |      S.rindex(sub[, start[, end]]) -> int\n",
      " |\n",
      " |      Return the highest index in S where substring sub is found,\n",
      " |      such that sub is contained within S[start:end].  Optional\n",
      " |      arguments start and end are interpreted as in slice notation.\n",
      " |\n",
      " |      Raises ValueError when the substring is not found.\n",
      " |\n",
      " |  rjust(self, width, fillchar=' ', /)\n",
      " |      Return a right-justified string of length width.\n",
      " |\n",
      " |      Padding is done using the specified fill character (default is a space).\n",
      " |\n",
      " |  rpartition(self, sep, /)\n",
      " |      Partition the string into three parts using the given separator.\n",
      " |\n",
      " |      This will search for the separator in the string, starting at the end. If\n",
      " |      the separator is found, returns a 3-tuple containing the part before the\n",
      " |      separator, the separator itself, and the part after it.\n",
      " |\n",
      " |      If the separator is not found, returns a 3-tuple containing two empty strings\n",
      " |      and the original string.\n",
      " |\n",
      " |  rsplit(self, /, sep=None, maxsplit=-1)\n",
      " |      Return a list of the substrings in the string, using sep as the separator string.\n",
      " |\n",
      " |        sep\n",
      " |          The separator used to split the string.\n",
      " |\n",
      " |          When set to None (the default value), will split on any whitespace\n",
      " |          character (including \\n \\r \\t \\f and spaces) and will discard\n",
      " |          empty strings from the result.\n",
      " |        maxsplit\n",
      " |          Maximum number of splits (starting from the left).\n",
      " |          -1 (the default value) means no limit.\n",
      " |\n",
      " |      Splitting starts at the end of the string and works to the front.\n",
      " |\n",
      " |  rstrip(self, chars=None, /)\n",
      " |      Return a copy of the string with trailing whitespace removed.\n",
      " |\n",
      " |      If chars is given and not None, remove characters in chars instead.\n",
      " |\n",
      " |  split(self, /, sep=None, maxsplit=-1)\n",
      " |      Return a list of the substrings in the string, using sep as the separator string.\n",
      " |\n",
      " |        sep\n",
      " |          The separator used to split the string.\n",
      " |\n",
      " |          When set to None (the default value), will split on any whitespace\n",
      " |          character (including \\n \\r \\t \\f and spaces) and will discard\n",
      " |          empty strings from the result.\n",
      " |        maxsplit\n",
      " |          Maximum number of splits (starting from the left).\n",
      " |          -1 (the default value) means no limit.\n",
      " |\n",
      " |      Note, str.split() is mainly useful for data that has been intentionally\n",
      " |      delimited.  With natural text that includes punctuation, consider using\n",
      " |      the regular expression module.\n",
      " |\n",
      " |  splitlines(self, /, keepends=False)\n",
      " |      Return a list of the lines in the string, breaking at line boundaries.\n",
      " |\n",
      " |      Line breaks are not included in the resulting list unless keepends is given and\n",
      " |      true.\n",
      " |\n",
      " |  startswith(...)\n",
      " |      S.startswith(prefix[, start[, end]]) -> bool\n",
      " |\n",
      " |      Return True if S starts with the specified prefix, False otherwise.\n",
      " |      With optional start, test S beginning at that position.\n",
      " |      With optional end, stop comparing S at that position.\n",
      " |      prefix can also be a tuple of strings to try.\n",
      " |\n",
      " |  strip(self, chars=None, /)\n",
      " |      Return a copy of the string with leading and trailing whitespace removed.\n",
      " |\n",
      " |      If chars is given and not None, remove characters in chars instead.\n",
      " |\n",
      " |  swapcase(self, /)\n",
      " |      Convert uppercase characters to lowercase and lowercase characters to uppercase.\n",
      " |\n",
      " |  title(self, /)\n",
      " |      Return a version of the string where each word is titlecased.\n",
      " |\n",
      " |      More specifically, words start with uppercased characters and all remaining\n",
      " |      cased characters have lower case.\n",
      " |\n",
      " |  translate(self, table, /)\n",
      " |      Replace each character in the string using the given translation table.\n",
      " |\n",
      " |        table\n",
      " |          Translation table, which must be a mapping of Unicode ordinals to\n",
      " |          Unicode ordinals, strings, or None.\n",
      " |\n",
      " |      The table must implement lookup/indexing via __getitem__, for instance a\n",
      " |      dictionary or list.  If this operation raises LookupError, the character is\n",
      " |      left untouched.  Characters mapped to None are deleted.\n",
      " |\n",
      " |  upper(self, /)\n",
      " |      Return a copy of the string converted to uppercase.\n",
      " |\n",
      " |  zfill(self, width, /)\n",
      " |      Pad a numeric string with zeros on the left, to fill a field of the given width.\n",
      " |\n",
      " |      The string is never truncated.\n",
      " |\n",
      " |  ----------------------------------------------------------------------\n",
      " |  Static methods defined here:\n",
      " |\n",
      " |  __new__(*args, **kwargs) from builtins.type\n",
      " |      Create and return a new object.  See help(type) for accurate signature.\n",
      " |\n",
      " |  maketrans(...)\n",
      " |      Return a translation table usable for str.translate().\n",
      " |\n",
      " |      If there is only one argument, it must be a dictionary mapping Unicode\n",
      " |      ordinals (integers) or characters to Unicode ordinals, strings or None.\n",
      " |      Character keys will be then converted to ordinals.\n",
      " |      If there are two arguments, they must be strings of equal length, and\n",
      " |      in the resulting dictionary, each character in x will be mapped to the\n",
      " |      character at the same position in y. If there is a third argument, it\n",
      " |      must be a string, whose characters will be mapped to None in the result.\n",
      "\n"
     ]
    }
   ],
   "source": [
    "help(str)"
   ]
  },
  {
   "cell_type": "code",
   "execution_count": 36,
   "id": "d0771648",
   "metadata": {},
   "outputs": [
    {
     "name": "stdout",
     "output_type": "stream",
     "text": [
      "2177211740272\n",
      "2177139246320\n"
     ]
    }
   ],
   "source": [
    "#strings are immutable, means string object does not support item assignment\n",
    "str1 = 'Data Science'\n",
    "\n",
    "#str1[4] = 'i'\n",
    "\n",
    "print(id(str1))\n",
    "\n",
    "#assigning a new value is valid\n",
    "str1 = 'python'\n",
    "\n",
    "print(id(str1))"
   ]
  },
  {
   "cell_type": "markdown",
   "id": "4c49337a",
   "metadata": {},
   "source": [
    "The object `Data Science` is now orphan, since there is no variable referring to it now and will be collected by Python garbage collector."
   ]
  },
  {
   "cell_type": "markdown",
   "id": "e8c7221e",
   "metadata": {},
   "source": [
    "## 4. Slicing Strings\n",
    "- Slicing is the process of obtaining a portion (substring) of a string by using its indices.\n",
    "- Given a string, we can use the following syntax to slice it and obtain a substring:\n",
    "```\n",
    "string[start:end]\n",
    "```\n",
    "\n",
    "- **start** is the index from where we want the substring to start. If start is not provided, slicing starts from the beginning.\n",
    "- **end** is the index where we want our substring to end (not inclusive in the substring). If end is not provided, slicing goes till the end of the string (includes the last character of the string)."
   ]
  },
  {
   "cell_type": "code",
   "execution_count": 37,
   "id": "a45eb434",
   "metadata": {},
   "outputs": [
    {
     "name": "stdout",
     "output_type": "stream",
     "text": [
      "Data\n",
      "Data\n",
      "Tools\n",
      "Techniques\n",
      "Techni\n",
      "\n"
     ]
    }
   ],
   "source": [
    "str1 = 'DataScienceToolsAndTechniques'\n",
    "\n",
    "print(str1[0:4]) # From the start till before the 4th index\n",
    "print(str1[:4]) # From the start till before the 4th index\n",
    "print(str1[11:16])\n",
    "print(str1[19:]) # From the 19th index till the end\n",
    "print(str1[19:len(str)]) # From the 19th index till the end\n",
    "#if start is greater than end, it will return empty string\n",
    "print(str1[5:2])"
   ]
  },
  {
   "cell_type": "markdown",
   "id": "29823e0e",
   "metadata": {},
   "source": [
    "### a. Slicing with a Step \n",
    "- In the above example, we’ve used slicing to obtain a contiguous piece of a string, i.e., all the characters from the starting index to before the ending index are retrieved.\n",
    "- However, we can define a step through which we can skip characters in the string. The default step is 1, so we iterate through the string one character at a time.\n",
    "- The step is defined after the end index:\n",
    "```\n",
    "string[start:end:step]\n",
    "```"
   ]
  },
  {
   "cell_type": "code",
   "execution_count": 38,
   "id": "340a1dd5",
   "metadata": {},
   "outputs": [
    {
     "name": "stdout",
     "output_type": "stream",
     "text": [
      "DataScienceToolsAndTechniques\n",
      "DataScienceToolsAndTechniques\n",
      "DtSineolAdehius\n"
     ]
    }
   ],
   "source": [
    "str1 = 'DataScienceToolsAndTechniques'\n",
    "print(str1[::])  # A default step of 1\n",
    "print(str1[::1])  # A step of 1\n",
    "print(str1[::2])  # A step of 2"
   ]
  },
  {
   "cell_type": "markdown",
   "id": "df2b33e0",
   "metadata": {},
   "source": [
    "### b. Reverse Slicing\n",
    "- Strings can also be sliced to return a reversed substring. \n",
    "- For reverse slicing we need to give a negative step\n",
    "- For reverse slicing the `start` index must be greater than the `end` index, otherwise an empty string will be returned"
   ]
  },
  {
   "cell_type": "code",
   "execution_count": 39,
   "id": "9f1d3ebb",
   "metadata": {},
   "outputs": [
    {
     "name": "stdout",
     "output_type": "stream",
     "text": [
      "9876543210\n",
      "5432\n",
      "\n",
      "97531\n"
     ]
    }
   ],
   "source": [
    "str1 = '0123456789'\n",
    "print(str1[::-1]) \n",
    "print(str1[5:1:-1]) \n",
    "print(str1[2:10:-1])\n",
    "print(str1[::-2]) "
   ]
  },
  {
   "cell_type": "markdown",
   "id": "2603ff7c",
   "metadata": {},
   "source": [
    "## 5. String Concatenation\n",
    "- Two strings can be joined or concatenated using the `+` operator"
   ]
  },
  {
   "cell_type": "code",
   "execution_count": 2,
   "id": "44dc0a9d",
   "metadata": {},
   "outputs": [
    {
     "name": "stdout",
     "output_type": "stream",
     "text": [
      "str1 + str2 =  Hello World!\n",
      "Yello World!\n"
     ]
    }
   ],
   "source": [
    "str1 = 'Hello'\n",
    "str2 =' World!'\n",
    "str3 = str1 + str2\n",
    "print('str1 + str2 = ', str3)\n",
    "\n",
    "\n",
    "print(\"Y\" + str3[1:])"
   ]
  },
  {
   "cell_type": "markdown",
   "id": "f4bdee54",
   "metadata": {},
   "source": [
    "## 6. Creating Large strings\n",
    "- A string can be replicated/repeated using the `*` operator"
   ]
  },
  {
   "cell_type": "code",
   "execution_count": 43,
   "id": "5fcc181e",
   "metadata": {},
   "outputs": [
    {
     "name": "stdout",
     "output_type": "stream",
     "text": [
      "str1 * 5 = HelloHelloHelloHelloHello\n",
      "AAAAAAAAAAAAAAAAAAAAAAAAAAAAAAAAAAAAAAAAAAAAAAAAAAAAAAAAAAAAAAAAAAAAAAAAAAAAAAAAAAAAAAAAAAAAAAAAAAAA\n"
     ]
    }
   ],
   "source": [
    "str1 = 'Hello'\n",
    "print('str1 * 5 =', str1 * 5)\n",
    "\n",
    "buffer = 'A' * 100\n",
    "print(buffer)"
   ]
  },
  {
   "cell_type": "code",
   "execution_count": 3,
   "id": "72483328",
   "metadata": {},
   "outputs": [
    {
     "data": {
      "text/plain": [
       "'NadeemNadeemNadeemNadeemNadeemNadeemNadeemNadeemNadeemNadeemNadeemNadeemNadeemNadeemNadeemNadeemNadeemNadeemNadeemNadeemNadeemNadeemNadeemNadeemNadeemNadeemNadeemNadeemNadeemNadeemNadeemNadeemNadeemNadeemNadeemNadeemNadeemNadeemNadeemNadeemNadeemNadeemNadeemNadeemNadeemNadeemNadeemNadeemNadeemNadeemNadeemNadeemNadeemNadeemNadeemNadeemNadeemNadeemNadeemNadeemNadeemNadeemNadeemNadeemNadeemNadeemNadeemNadeemNadeemNadeemNadeemNadeemNadeemNadeemNadeemNadeemNadeemNadeemNadeemNadeemNadeemNadeemNadeemNadeemNadeemNadeemNadeemNadeemNadeemNadeemNadeemNadeemNadeemNadeemNadeemNadeemNadeemNadeemNadeemNadeem'"
      ]
     },
     "execution_count": 3,
     "metadata": {},
     "output_type": "execute_result"
    }
   ],
   "source": [
    "\"Nadeem\"*100"
   ]
  },
  {
   "cell_type": "markdown",
   "id": "be6f1cc8",
   "metadata": {},
   "source": [
    "## 7. String Methods\n",
    "- Objects in Python usually have built-in **methods**. These methods are functions defined in the class that can perform actions on the object of that class. \n",
    "- To keep it simple, methods are actions that are performed on object of a class, while functions are actions that belong to no 'data thing' (object). They just exist in the program.\n",
    "- Methods will perform specific actions on the object and can also take arguments. We call methods with a period and then the method name. Basically, we say `\"Hey object, do this to these arguments\"`. The syntax to call methods is:\n",
    "```\n",
    "object.method(arg1, arg2, ...)\n",
    "```\n",
    "- Where parameters are extra arguments we can pass to the method.\n",
    "- Remember, most of the String methods do not modify the string object on which they are called, rather return a new string object that has been altered as per the requested opertaion. \n",
    "- Let me re-emphasize, that all string methods return new values and DO NOT change the existing string. \n",
    "- [Click me to learn more about string methods](https://www.w3schools.com/python/python_ref_string.asp)"
   ]
  },
  {
   "cell_type": "markdown",
   "id": "a37b6a03",
   "metadata": {},
   "source": [
    "### a. The `len()`, `str.lower()`, `str.upper()` and `str.capitalize()` methods\n",
    "- The `len()` is a built-in function that returns the number of items of a container data type passed as argument. We can check the length of any data types that are collections with built-in `len()` function.\n",
    "It is considered a built-in function.\n",
    "- The `str.lower()` method return a copy of the string converted to lowercase.\n",
    "- The `str.upper()` method return a copy of the string converted to uppercase.\n",
    "- The `str.capitalize()` method return a capitalized version of the string."
   ]
  },
  {
   "cell_type": "code",
   "execution_count": null,
   "id": "57d585c3",
   "metadata": {},
   "outputs": [],
   "source": [
    "help(len)"
   ]
  },
  {
   "cell_type": "code",
   "execution_count": 44,
   "id": "78745769",
   "metadata": {},
   "outputs": [
    {
     "data": {
      "text/plain": [
       "5"
      ]
     },
     "execution_count": 44,
     "metadata": {},
     "output_type": "execute_result"
    }
   ],
   "source": [
    "str1= \"Hello World\"\n",
    "mylist = [1,2,3,4,5]\n",
    "len(str1)\n",
    "len(mylist)"
   ]
  },
  {
   "cell_type": "markdown",
   "id": "6bf7d0e1",
   "metadata": {},
   "source": [
    "- To know what all methods the object of string class support. Just type the name of the object, place a dot and then press <tab> to view the list of its attributes and methods it support. \n",
    "`str.<tab>`\n",
    "- Similarly to get help about a method, after the method name press <shift+tab>, to get information about what the method do, what parameters it take, its return value\n",
    "`str.lower<shift+tab>`"
   ]
  },
  {
   "cell_type": "code",
   "execution_count": 10,
   "id": "f310670a",
   "metadata": {},
   "outputs": [
    {
     "data": {
      "text/plain": [
       "'ds'"
      ]
     },
     "execution_count": 10,
     "metadata": {},
     "output_type": "execute_result"
    }
   ],
   "source": [
    "str1=\"DS\"\n",
    "str1.lower()"
   ]
  },
  {
   "cell_type": "code",
   "execution_count": 45,
   "id": "3f201280",
   "metadata": {},
   "outputs": [
    {
     "name": "stdout",
     "output_type": "stream",
     "text": [
      "Orignial string =  LearNing is Fun with Nadeem\n",
      "len(str1) =  27\n",
      "str1.lower() =  learning is fun with nadeem\n",
      "str1.upper() =  LEARNING IS FUN WITH NADEEM\n",
      "str1.capitalize() =  Learning is fun with nadeem\n",
      "Orignial string =  LearNing is Fun with Nadeem\n"
     ]
    }
   ],
   "source": [
    "str1 = 'LearNing is Fun with Nadeem'\n",
    "print('Orignial string = ', str1)\n",
    "\n",
    "rv = len(str1)\n",
    "print('len(str1) = ', rv)\n",
    "\n",
    "rv = str1.lower()\n",
    "print('str1.lower() = ', rv)\n",
    "      \n",
    "print('str1.upper() = ', str1.upper())\n",
    "\n",
    "rv = str1.capitalize()\n",
    "print('str1.capitalize() = ', rv)\n",
    "print('Orignial string = ', str1)\n"
   ]
  },
  {
   "cell_type": "markdown",
   "id": "aee78026",
   "metadata": {},
   "source": [
    "### b. The `str.strip()` method\n",
    "- The `str.strip()` method removes whitespace characters from the beginning and end of a string.\n",
    "- The `str.lstrip()` method removes whitespace characters from the beginning of a string.\n",
    "- The `str.rstrip()` method removes whitespace characters from the end of a string.\n"
   ]
  },
  {
   "cell_type": "code",
   "execution_count": null,
   "id": "06a6775d",
   "metadata": {},
   "outputs": [],
   "source": [
    "str1=\"DS\"\n",
    "help(str1.strip)"
   ]
  },
  {
   "cell_type": "code",
   "execution_count": 46,
   "id": "2ec66201",
   "metadata": {},
   "outputs": [
    {
     "name": "stdout",
     "output_type": "stream",
     "text": [
      "    hello world, this is       Nadeem Majeed      \n",
      "hello world, this is       Nadeem Majeed\n"
     ]
    }
   ],
   "source": [
    "buffer =\"    hello world, this is       Nadeem Majeed      \"\n",
    "rv = buffer.strip()\n",
    "print(buffer)\n",
    "print(rv)"
   ]
  },
  {
   "cell_type": "code",
   "execution_count": 49,
   "id": "6c478fb4",
   "metadata": {},
   "outputs": [
    {
     "data": {
      "text/plain": [
       "'hello world, this is       Nadeem Majeed      '"
      ]
     },
     "execution_count": 49,
     "metadata": {},
     "output_type": "execute_result"
    }
   ],
   "source": [
    "buffer\n",
    "buffer.lstrip()"
   ]
  },
  {
   "cell_type": "code",
   "execution_count": 48,
   "id": "70d85498",
   "metadata": {},
   "outputs": [
    {
     "data": {
      "text/plain": [
       "'    hello world, this is       Nadeem Majeed'"
      ]
     },
     "execution_count": 48,
     "metadata": {},
     "output_type": "execute_result"
    }
   ],
   "source": [
    "buffer\n",
    "buffer.rstrip()"
   ]
  },
  {
   "cell_type": "markdown",
   "id": "8181b676",
   "metadata": {},
   "source": [
    "### c. The `str.startswith()` method\n",
    "The `str.startswith()` method return True if str starts with the specified prefix, False otherwise.\n",
    "```\n",
    "str.startswith(prefix[, start[, end]])\n",
    "```"
   ]
  },
  {
   "cell_type": "code",
   "execution_count": 11,
   "id": "8c25d5f1",
   "metadata": {},
   "outputs": [
    {
     "name": "stdout",
     "output_type": "stream",
     "text": [
      "Help on built-in function startswith:\n",
      "\n",
      "startswith(...) method of builtins.str instance\n",
      "    S.startswith(prefix[, start[, end]]) -> bool\n",
      "\n",
      "    Return True if S starts with the specified prefix, False otherwise.\n",
      "    With optional start, test S beginning at that position.\n",
      "    With optional end, stop comparing S at that position.\n",
      "    prefix can also be a tuple of strings to try.\n",
      "\n"
     ]
    }
   ],
   "source": [
    "str1=\"DS\"\n",
    "help(str1.startswith)"
   ]
  },
  {
   "cell_type": "code",
   "execution_count": 50,
   "id": "cafc44b9",
   "metadata": {},
   "outputs": [
    {
     "name": "stdout",
     "output_type": "stream",
     "text": [
      "True\n",
      "False\n",
      "True\n",
      "False\n",
      "True\n"
     ]
    }
   ],
   "source": [
    "str1 = \"Learning is fun with Nadeem Majeed\"\n",
    "\n",
    "rv = str1.startswith('Learning')\n",
    "print(rv)\n",
    "\n",
    "rv = str1.startswith('Nadeem')\n",
    "print(rv)\n",
    "\n",
    "\n",
    "rv = str1.startswith('Nadeem', 21)\n",
    "print(rv)\n",
    "\n",
    "# case sensitive\n",
    "rv = str1.startswith('nadeem', 21)\n",
    "print(rv)\n",
    "\n",
    "rv = str1.startswith('arn', 2, 10)  # character at ending index is not included\n",
    "print(rv)\n"
   ]
  },
  {
   "cell_type": "markdown",
   "id": "85f7b8a7",
   "metadata": {},
   "source": [
    "### d. The `str.split()` and `str.join()` method\n",
    "- The `str.split()` method splits a string into a list of strings at every occurrence of space character by default. You may pass a parameter `sep='i'` to split method to split at that specific character instead.\n",
    "- The `sep.join(list)` method is passed a list/iterable as parameter and is called on a separater character. It joins the strings inside the list to a single string and returns"
   ]
  },
  {
   "cell_type": "code",
   "execution_count": 12,
   "id": "7acfe4a2",
   "metadata": {},
   "outputs": [
    {
     "name": "stdout",
     "output_type": "stream",
     "text": [
      "Help on built-in function split:\n",
      "\n",
      "split(sep=None, maxsplit=-1) method of builtins.str instance\n",
      "    Return a list of the substrings in the string, using sep as the separator string.\n",
      "\n",
      "      sep\n",
      "        The separator used to split the string.\n",
      "\n",
      "        When set to None (the default value), will split on any whitespace\n",
      "        character (including \\n \\r \\t \\f and spaces) and will discard\n",
      "        empty strings from the result.\n",
      "      maxsplit\n",
      "        Maximum number of splits (starting from the left).\n",
      "        -1 (the default value) means no limit.\n",
      "\n",
      "    Note, str.split() is mainly useful for data that has been intentionally\n",
      "    delimited.  With natural text that includes punctuation, consider using\n",
      "    the regular expression module.\n",
      "\n"
     ]
    }
   ],
   "source": [
    "str1=\"DS\"\n",
    "help(str1.split)"
   ]
  },
  {
   "cell_type": "code",
   "execution_count": 13,
   "id": "ec111ec7",
   "metadata": {},
   "outputs": [
    {
     "name": "stdout",
     "output_type": "stream",
     "text": [
      "['Learning', 'is', 'fun', 'with', 'Nadeem', 'Majeed']\n",
      "<class 'list'>\n"
     ]
    }
   ],
   "source": [
    "str1 = 'Learning is fun with Nadeem Majeed'\n",
    "rv = str1.split()\n",
    "print(rv)\n",
    "print(type(rv))"
   ]
  },
  {
   "cell_type": "code",
   "execution_count": 52,
   "id": "8a72e43c",
   "metadata": {},
   "outputs": [
    {
     "name": "stdout",
     "output_type": "stream",
     "text": [
      "['Learn', 'ng ', 's fun w', 'th ']\n",
      "<class 'list'>\n"
     ]
    }
   ],
   "source": [
    "str1 = 'Learning is fun with Nadeem Majeed'\n",
    "str1 = 'Learning is fun with '\n",
    "rv = str1.split(sep='i')\n",
    "print(rv)\n",
    "print(type(rv))"
   ]
  },
  {
   "cell_type": "code",
   "execution_count": 14,
   "id": "35be205d",
   "metadata": {},
   "outputs": [
    {
     "name": "stdout",
     "output_type": "stream",
     "text": [
      "Help on built-in function join:\n",
      "\n",
      "join(iterable, /) method of builtins.str instance\n",
      "    Concatenate any number of strings.\n",
      "\n",
      "    The string whose method is called is inserted in between each given string.\n",
      "    The result is returned as a new string.\n",
      "\n",
      "    Example: '.'.join(['ab', 'pq', 'rs']) -> 'ab.pq.rs'\n",
      "\n"
     ]
    }
   ],
   "source": [
    "str1=\"DS\"\n",
    "help(str1.join)"
   ]
  },
  {
   "cell_type": "code",
   "execution_count": 53,
   "id": "84b556b6",
   "metadata": {},
   "outputs": [
    {
     "data": {
      "text/plain": [
       "['L', 'e', 'a', 'r', 'n', 'i', 'n', 'g']"
      ]
     },
     "execution_count": 53,
     "metadata": {},
     "output_type": "execute_result"
    }
   ],
   "source": [
    "mystr = \"L e a r n i n g\"\n",
    "mystr.split(' ')"
   ]
  },
  {
   "cell_type": "code",
   "execution_count": 15,
   "id": "834eca1c",
   "metadata": {},
   "outputs": [
    {
     "name": "stdout",
     "output_type": "stream",
     "text": [
      "['Learning', 'is', 'fun', 'with', 'Nadeem'] <class 'list'>\n",
      "Learning is fun with Nadeem <class 'str'>\n"
     ]
    }
   ],
   "source": [
    "# The join() method takes all items in an iterable and joins them into one string.\n",
    "mylist = ['Learning', 'is', 'fun', 'with', 'Nadeem']\n",
    "\n",
    "#Note the separator is space character\n",
    "mystr = ' '.join(mylist)\n",
    "\n",
    "print(mylist, type(mylist))\n",
    "print(mystr, type(mystr))"
   ]
  },
  {
   "cell_type": "code",
   "execution_count": 60,
   "id": "2fc9dece",
   "metadata": {},
   "outputs": [
    {
     "name": "stdout",
     "output_type": "stream",
     "text": [
      "['Arif', 'Rauf', 'Maaz', 'Hadeed', 'Mujahid', 'Mohid'] <class 'list'>\n",
      "Arif#Rauf#Maaz#Hadeed#Mujahid#Mohid <class 'str'>\n"
     ]
    }
   ],
   "source": [
    "# You can call join() method on a separator or your choice\n",
    "mylist = ['Arif', 'Rauf', 'Maaz', 'Hadeed', 'Mujahid', 'Mohid']\n",
    "\n",
    "#Note the separator is hash character\n",
    "mystr = '#'.join(mylist)\n",
    "\n",
    "print(mylist, type(mylist))\n",
    "print(mystr, type(mystr))"
   ]
  },
  {
   "cell_type": "markdown",
   "id": "3f759ac2",
   "metadata": {},
   "source": [
    "### e. The `str.find()` method\n",
    "- The `str.find()` method is used to find a substring from within a string, which returns the first index at which a substring occurs in a string. If no instance of the substring is found, the method returns -1.\n",
    "```\n",
    "str.find(substring, start, end)\n",
    "```\n",
    "where \n",
    "    - `substring` is what we are searching for,\n",
    "    - `start` is the index from where we want to start searching (default value is 0)\n",
    "    - `end` is the index where we want to stop our search (default value is len(str) -1)"
   ]
  },
  {
   "cell_type": "code",
   "execution_count": 16,
   "id": "58ce5dc1",
   "metadata": {},
   "outputs": [
    {
     "name": "stdout",
     "output_type": "stream",
     "text": [
      "0\n",
      "16\n",
      "4\n",
      "15\n",
      "-1\n",
      "4\n"
     ]
    }
   ],
   "source": [
    "str1 = 'DataScienceToolsAndTechniques'\n",
    "print(str1.find('Data'))\n",
    "print(str1.find('And'))\n",
    "\n",
    "\n",
    "print(str1.find('S',2)) # second argument starts searching from that index\n",
    "print(str1.find('s',2)) # case sensitive\n",
    "\n",
    "print(str1.find('S',0, 4)) # third argument stops searching uptill that index\n",
    "print(str1.find('S',0, 5)) "
   ]
  },
  {
   "cell_type": "markdown",
   "id": "c11e762b",
   "metadata": {},
   "source": [
    "### f. Use `str.replace()` method to find a substring\n",
    "- The `str.replace()` method returns a string after replacing all occurrences of `substring_to_be_replaced` with `new_string`.\n",
    "```\n",
    "str.replace(substring_to_be_replaced, new_string, count = -1)\n",
    "```\n",
    "- Note that `replace` returns a new string, and the original string is not modified."
   ]
  },
  {
   "cell_type": "code",
   "execution_count": null,
   "id": "7c8e62c9",
   "metadata": {},
   "outputs": [],
   "source": [
    "str1=\"DS\"\n",
    "help(str1.replace)"
   ]
  },
  {
   "cell_type": "code",
   "execution_count": 17,
   "id": "7f2f698e",
   "metadata": {},
   "outputs": [
    {
     "name": "stdout",
     "output_type": "stream",
     "text": [
      "Hallo\n",
      "Hello\n"
     ]
    }
   ],
   "source": [
    "st=\"Hello\"\n",
    "print(st.replace(\"e\",\"a\"))\n",
    "print(st)"
   ]
  },
  {
   "cell_type": "code",
   "execution_count": 67,
   "id": "93b57ec8",
   "metadata": {},
   "outputs": [
    {
     "name": "stdout",
     "output_type": "stream",
     "text": [
      "Welcome to Learning Data Science with Nadeem\n",
      "Wplcomp to Learning Data Science with Nadeem\n"
     ]
    }
   ],
   "source": [
    "str1 = 'Welcome to Learning Data Science with Nadeem'\n",
    "newstring = str1.replace('e', 'p',2)\n",
    "print(str1)\n",
    "print(newstring)"
   ]
  },
  {
   "cell_type": "markdown",
   "id": "cb193a5b",
   "metadata": {},
   "source": [
    "### g. The `str.format()` method\n",
    "- The `str.format()` method combines values of other data types, e.g., integers, floats, booleans, lists, etc. with strings. \n",
    "- You can use `str.format()` to construct output messages for display in the Python built-in `print()` function.\n",
    "- You put placeholders `{}` within the format string of `print()` function, and the arguments to the `str.format()` method are the variable names\n",
    "- The values of the variables are replaced with the arguments provided to the `str.format()` method."
   ]
  },
  {
   "cell_type": "code",
   "execution_count": 68,
   "id": "683c6aeb",
   "metadata": {},
   "outputs": [
    {
     "name": "stdout",
     "output_type": "stream",
     "text": [
      "Mr. Nadeem Majeed, you are 51 years old.\n"
     ]
    }
   ],
   "source": [
    "#Example 1:\n",
    "age = 51;    name=\"Nadeem Majeed\"\n",
    "\n",
    "print(\"Mr. {}, you are {} years old.\" .format(name, age))"
   ]
  },
  {
   "cell_type": "code",
   "execution_count": 69,
   "id": "b57ff578",
   "metadata": {},
   "outputs": [
    {
     "name": "stdout",
     "output_type": "stream",
     "text": [
      "Mr. Hadeed Butt, your total cost is 100, percentage discount is 0.2, and bill is 80.0\n"
     ]
    }
   ],
   "source": [
    "#Example 2:\n",
    "name=\"Hadeed Butt\"\n",
    "cost = 100\n",
    "discount = .2\n",
    "bill = cost - cost * discount\n",
    "\n",
    "print(\"Mr. {2}, your total cost is {1}, percentage discount is {3}, and bill is {0}\" \n",
    "      . format(bill, cost, name, discount))\n"
   ]
  },
  {
   "cell_type": "markdown",
   "id": "8befae56",
   "metadata": {},
   "source": [
    "### Comparing two strings using `is` operator and `==` operator"
   ]
  },
  {
   "cell_type": "code",
   "execution_count": 73,
   "id": "811e3f7f",
   "metadata": {},
   "outputs": [
    {
     "name": "stdout",
     "output_type": "stream",
     "text": [
      "10 10\n",
      "140734333031496 140734333031368\n",
      "10 6\n"
     ]
    }
   ],
   "source": [
    "x=10\n",
    "y=x\n",
    "print(x,y)\n",
    "y=6\n",
    "print(id(x), id(y))\n",
    "print(x, y)"
   ]
  },
  {
   "cell_type": "code",
   "execution_count": 70,
   "id": "8ac11b1b",
   "metadata": {},
   "outputs": [
    {
     "data": {
      "text/plain": [
       "(2177167412016, 2177167412016)"
      ]
     },
     "execution_count": 70,
     "metadata": {},
     "output_type": "execute_result"
    }
   ],
   "source": [
    "# Let us check out the IDs of the following two variables. Like numbers type of variable, \n",
    "# they are same as both a and b refers to the same memory location containing string 'hello'\n",
    "a = 'hello'\n",
    "b = 'hello'\n",
    "id(a), id(b)"
   ]
  },
  {
   "cell_type": "code",
   "execution_count": 74,
   "id": "d787d540",
   "metadata": {},
   "outputs": [
    {
     "name": "stdout",
     "output_type": "stream",
     "text": [
      "True\n",
      "True\n",
      "False\n",
      "False\n"
     ]
    }
   ],
   "source": [
    "# in case of strings, both a and b refers to the same memory location containing string 'hello'\n",
    "a = 'hello'\n",
    "b = 'hello'\n",
    "\n",
    "# The `is` operator checks the memory address of two strings \n",
    "print (a is b) \n",
    "# The `==` operator checks the contents of two strings\n",
    "print (a == b) \n",
    "\n",
    "\n",
    "print(a is not b)\n",
    "print (a != b)"
   ]
  },
  {
   "cell_type": "code",
   "execution_count": 75,
   "id": "d4e79e67",
   "metadata": {},
   "outputs": [
    {
     "name": "stdout",
     "output_type": "stream",
     "text": [
      "False\n",
      "False\n",
      "True\n",
      "True\n"
     ]
    }
   ],
   "source": [
    "# both x and y refers to two different memory locations containing string 'hello'\n",
    "x = 'hello'\n",
    "y = 'bye'\n",
    "\n",
    "# The `is` operator checks the memory address of two strings \n",
    "print (x is y) \n",
    "# The `==` operator checks the contents of two strings\n",
    "print (x == y) \n",
    "\n",
    "\n",
    "print(x is not y)\n",
    "print (x != y)"
   ]
  },
  {
   "cell_type": "markdown",
   "id": "db4dd60b",
   "metadata": {},
   "source": [
    "### String Membership test using `in` operator"
   ]
  },
  {
   "cell_type": "code",
   "execution_count": 76,
   "id": "ad151253",
   "metadata": {},
   "outputs": [
    {
     "data": {
      "text/plain": [
       "True"
      ]
     },
     "execution_count": 76,
     "metadata": {},
     "output_type": "execute_result"
    }
   ],
   "source": [
    "'a' in 'DataScience'"
   ]
  },
  {
   "cell_type": "code",
   "execution_count": 77,
   "id": "7dacbbf5",
   "metadata": {},
   "outputs": [
    {
     "data": {
      "text/plain": [
       "False"
      ]
     },
     "execution_count": 77,
     "metadata": {},
     "output_type": "execute_result"
    }
   ],
   "source": [
    "'th' not in 'python'"
   ]
  },
  {
   "cell_type": "markdown",
   "id": "f75a7eb3",
   "metadata": {},
   "source": [
    "## Summary of some Built in String Methods\n",
    "common Python string built-in methods:\n",
    "\n",
    "1. **`len()`** - Returns the length of a string:\n",
    "\n",
    "```python\n",
    "text = \"Hello, World!\"\n",
    "length = len(text)\n",
    "print(length)  # Output: 13\n",
    "```\n",
    "\n",
    "2. **`str.upper()` and `str.lower()`** - Convert a string to uppercase or lowercase:\n",
    "\n",
    "```python\n",
    "text = \"Hello, World!\"\n",
    "uppercase = text.upper()\n",
    "lowercase = text.lower()\n",
    "print(uppercase)  # Output: \"HELLO, WORLD!\"\n",
    "print(lowercase)  # Output: \"hello, world!\"\n",
    "```\n",
    "\n",
    "3. **`str.strip()`** - Removes leading and trailing whitespace from a string:\n",
    "\n",
    "```python\n",
    "text = \"   Python Programming   \"\n",
    "stripped_text = text.strip()\n",
    "print(stripped_text)  # Output: \"Python Programming\"\n",
    "```\n",
    "\n",
    "4. **`str.split()`** - Splits a string into a list of substrings based on a delimiter:\n",
    "\n",
    "```python\n",
    "text = \"apple,banana,orange\"\n",
    "fruits = text.split(\",\")\n",
    "print(fruits)  # Output: ['apple', 'banana', 'orange']\n",
    "```\n",
    "\n",
    "5. **`str.replace()`** - Replaces a substring with another substring:\n",
    "\n",
    "```python\n",
    "text = \"Hello, World!\"\n",
    "new_text = text.replace(\"World\", \"Python\")\n",
    "print(new_text)  # Output: \"Hello, Python!\"\n",
    "```\n",
    "\n",
    "6. **`str.find()` and `str.index()`** - Find the first occurrence of a substring in a string:\n",
    "\n",
    "```python\n",
    "text = \"Python is awesome!\"\n",
    "index1 = text.find(\"is\")\n",
    "index2 = text.index(\"is\")\n",
    "print(index1)  # Output: 7\n",
    "print(index2)  # Output: 7\n",
    "```\n",
    "\n",
    "7. **`str.count()`** - Count the occurrences of a substring in a string:\n",
    "\n",
    "```python\n",
    "text = \"How much wood would a woodchuck chuck if a woodchuck could chuck wood?\"\n",
    "count = text.count(\"wood\")\n",
    "print(count)  # Output: 2\n",
    "```\n",
    "\n",
    "8. **`str.startswith()` and `str.endswith()`** - Check if a string starts or ends with a specified prefix or suffix:\n",
    "\n",
    "```python\n",
    "text = \"Python is great\"\n",
    "starts_with = text.startswith(\"Python\")\n",
    "ends_with = text.endswith(\"great\")\n",
    "print(starts_with)  # Output: True\n",
    "print(ends_with)  # Output: True\n",
    "```\n",
    "\n",
    "These examples cover some of the most commonly used string methods and functions in Python. You can use them to introduce students to fundamental string manipulation techniques in the language."
   ]
  },
  {
   "cell_type": "markdown",
   "id": "0a975043",
   "metadata": {},
   "source": [
    "## Check your Concepts\n",
    "\n",
    "Try answering the following questions to test your understanding of the topics covered in this notebook:\n",
    "\n",
    "1. What are the container types available in Python?\n",
    "2. What kind of data does the String data type represent?\n",
    "3. What are the different ways of creating strings in Python?\n",
    "4. What is the difference between strings created using single quotes, i.e. `'` and `'` vs. those created using double quotes, i.e. `\"` and `\"`?\n",
    "5. How do you create multi-line strings in Python?\n",
    "6. What is the newline character, `\\n`?\n",
    "7. What are escaped characters? How are they useful?\n",
    "8. How do you check the length of a string?\n",
    "9. How do you convert a string into a list of characters?\n",
    "10. How do you access a specific character from a string?\n",
    "11. How do you access a range of characters from a string?\n",
    "12. How do you check if a specific character occurs in a string?\n",
    "13. How do you check if a smaller string occurs within a bigger string?\n",
    "14. How do you join two or more strings?\n",
    "15. What are \"methods\" in Python? How are they different from functions?\n",
    "16. What do the `.count`, `.isalnum` and `.isalpha` methods on strings do?\n",
    "17. How do you replace a specific part of a string with something else?\n",
    "18. How do you split the string \"Sun,Mon,Tue,Wed,Thu,Fri,Sat\" into a list of days?\n",
    "19. How do you remove whitespace from the beginning and end of a string?\n",
    "20. What is the string `.format` method used for? Can you give an example?\n",
    "21. What are the benefits of using the `.format` method instead of string concatenation?\n",
    "22. How do you convert a value of another type to a string?\n",
    "23. How do you check if two strings have the same value?\n",
    "24. Where can you find the list of all the methods supported by strings?"
   ]
  },
  {
   "cell_type": "markdown",
   "id": "bc77e533",
   "metadata": {},
   "source": [
    "### String Class Methods\n",
    "Python provides a variety of string methods that you can use to manipulate and work with strings. Here is a list of some common string methods:"
   ]
  },
  {
   "cell_type": "markdown",
   "id": "73c11602",
   "metadata": {},
   "source": [
    "1. **`str.capitalize()`**: Returns a copy of the string with the first character capitalized.\n",
    "\n",
    "2. **`str.casefold()`**: Returns a casefolded version of the string, which is suitable for case-insensitive comparisons.\n",
    "\n",
    "3. **`str.center(width, fillchar)`**: Returns a centered string of a specified width, padded with a fill character (default is space).\n",
    "\n",
    "4. **`str.count(substring, start, end)`**: Returns the number of non-overlapping occurrences of a substring in the string.\n",
    "\n",
    "5. **`str.encode(encoding, errors)`**: Returns an encoded version of the string.\n",
    "\n",
    "6. **`str.endswith(suffix, start, end)`**: Checks if the string ends with a specified suffix.\n",
    "\n",
    "7. **`str.expandtabs(tabsize)`**: Returns a copy of the string with tab characters expanded to spaces.\n",
    "\n",
    "8. **`str.find(substring, start, end)`**: Returns the lowest index of the substring in the string, or -1 if not found.\n",
    "\n",
    "9. **`str.format()`**: Formats the string using placeholders and replacement values.\n",
    "\n",
    "10. **`str.index(substring, start, end)`**: Like `find()`, but raises an exception if the substring is not found.\n",
    "\n",
    "11. **`str.isalnum()`**: Returns `True` if all characters in the string are alphanumeric (letters or digits).\n",
    "\n",
    "12. **`str.isalpha()`**: Returns `True` if all characters in the string are alphabetic (letters).\n",
    "\n",
    "13. **`str.isdecimal()`**: Returns `True` if all characters in the string are decimal digits.\n",
    "\n",
    "14. **`str.isdigit()`**: Returns `True` if all characters in the string are digits.\n",
    "\n",
    "15. **`str.islower()`**: Returns `True` if all cased characters in the string are lowercase.\n",
    "\n",
    "16. **`str.isnumeric()`**: Returns `True` if all characters in the string are numeric.\n",
    "\n",
    "17. **`str.isspace()`**: Returns `True` if all characters in the string are whitespace.\n",
    "\n",
    "18. **`str.istitle()`**: Returns `True` if the string is in titlecase.\n",
    "\n",
    "19. **`str.isupper()`**: Returns `True` if all cased characters in the string are uppercase.\n",
    "\n",
    "20. **`str.join(iterable)`**: Concatenates the elements of an iterable using the string as a separator.\n",
    "\n",
    "21. **`str.ljust(width, fillchar)`**: Returns a left-justified version of the string, padded with a fill character.\n",
    "\n",
    "22. **`str.lower()`**: Returns a copy of the string with all characters converted to lowercase.\n",
    "\n",
    "23. **`str.lstrip(characters)`**: Returns a copy of the string with leading characters removed.\n",
    "\n",
    "24. **`str.maketrans(x, y, z)`**: Creates a translation table for `str.translate()`.\n",
    "\n",
    "25. **`str.partition(sep)`**: Splits the string at the first occurrence of the specified separator and returns a tuple of three elements.\n",
    "\n",
    "26. **`str.replace(old, new, count)`**: Returns a copy of the string with all occurrences of \"old\" replaced by \"new.\"\n",
    "\n",
    "27. **`str.rfind(substring, start, end)`**: Similar to `find()`, but searches from the end of the string.\n",
    "\n",
    "28. **`str.rindex(substring, start, end)`**: Similar to `index()`, but searches from the end of the string.\n",
    "\n",
    "29. **`str.rjust(width, fillchar)`**: Returns a right-justified version of the string, padded with a fill character.\n",
    "\n",
    "30. **`str.rsplit(sep, maxsplit)`**: Splits the string into a list of substrings, starting from the end.\n",
    "\n",
    "31. **`str.rstrip(characters)`**: Returns a copy of the string with trailing characters removed.\n",
    "\n",
    "32. **`str.split(sep, maxsplit)`**: Splits the string into a list of substrings.\n",
    "\n",
    "33. **`str.splitlines(keepends)`**: Splits the string at line breaks and returns a list of lines.\n",
    "\n",
    "34. **`str.startswith(prefix, start, end)`**: Checks if the string starts with a specified prefix.\n",
    "\n",
    "35. **`str.strip(characters)`**: Returns a copy of the string with leading and trailing characters removed.\n",
    "\n",
    "36. **`str.swapcase()`**: Returns a copy of the string with uppercase characters converted to lowercase and vice versa.\n",
    "\n",
    "37. **`str.title()`**: Returns a titlecased version of the string.\n",
    "\n",
    "38. **`str.upper()`**: Returns a copy of the string with all characters converted to uppercase.\n",
    "\n",
    "39. **`str.zfill(width)`**: Returns a copy of the string, left-padded with zeros to a specified width.\n",
    "\n",
    "40. **`str.translate(table)`**: Returns a translated copy of the string using a translation table created with `maketrans()`."
   ]
  },
  {
   "cell_type": "code",
   "execution_count": null,
   "id": "1d343394",
   "metadata": {},
   "outputs": [],
   "source": []
  }
 ],
 "metadata": {
  "kernelspec": {
   "display_name": "Python 3",
   "language": "python",
   "name": "python3"
  },
  "language_info": {
   "codemirror_mode": {
    "name": "ipython",
    "version": 3
   },
   "file_extension": ".py",
   "mimetype": "text/x-python",
   "name": "python",
   "nbconvert_exporter": "python",
   "pygments_lexer": "ipython3",
   "version": "3.12.0"
  }
 },
 "nbformat": 4,
 "nbformat_minor": 5
}
